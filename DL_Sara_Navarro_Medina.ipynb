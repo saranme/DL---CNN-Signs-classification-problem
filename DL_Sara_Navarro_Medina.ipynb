{
  "nbformat": 4,
  "nbformat_minor": 0,
  "metadata": {
    "colab": {
      "name": "DL_Sara_Navarro_Medina.ipynb",
      "provenance": [],
      "collapsed_sections": []
    },
    "kernelspec": {
      "name": "python3",
      "display_name": "Python 3"
    },
    "language_info": {
      "name": "python"
    }
  },
  "cells": [
    {
      "cell_type": "code",
      "source": [
        "from google.colab import drive\n",
        "drive.mount('/content/drive')"
      ],
      "metadata": {
        "colab": {
          "base_uri": "https://localhost:8080/"
        },
        "id": "elkFrsC_I8Dw",
        "outputId": "70b29021-42dc-4ba4-f725-c31adb4ff808"
      },
      "execution_count": null,
      "outputs": [
        {
          "output_type": "stream",
          "name": "stdout",
          "text": [
            "Mounted at /content/drive\n"
          ]
        }
      ]
    },
    {
      "cell_type": "code",
      "source": [
        "# Preprocessing\n",
        "import h5py\n",
        "import numpy as np\n",
        "from sklearn.preprocessing import LabelBinarizer\n",
        "from sklearn.base import BaseEstimator, TransformerMixin\n",
        "\n",
        "from tensorflow import keras"
      ],
      "metadata": {
        "id": "eZt0nm1UrNRf"
      },
      "execution_count": null,
      "outputs": []
    },
    {
      "cell_type": "code",
      "source": [
        "def load_dataset():\n",
        "    train_dataset = h5py.File('/content/drive/MyDrive/course 21-22/data science u-tad/DL/train_signs.h5', \"r\")\n",
        "    X_train = np.array(train_dataset[\"train_set_x\"][:])\n",
        "    y_train = np.array(train_dataset[\"train_set_y\"][:])\n",
        "\n",
        "    test_dataset = h5py.File('/content/drive/MyDrive/course 21-22/data science u-tad/DL/test_signs.h5', \"r\")\n",
        "    X_test = np.array(test_dataset[\"test_set_x\"][:])\n",
        "    y_test = np.array(test_dataset[\"test_set_y\"][:])\n",
        "\n",
        "    classes = np.array(test_dataset[\"list_classes\"][:])\n",
        "    \n",
        "    return X_train, y_train, X_test, y_test, classes"
      ],
      "metadata": {
        "id": "1dWGWuGPJM07"
      },
      "execution_count": null,
      "outputs": []
    },
    {
      "cell_type": "code",
      "source": [
        "X_train, y_train, X_test, y_test, classes = load_dataset()"
      ],
      "metadata": {
        "id": "HCVFGKpmJOfo"
      },
      "execution_count": null,
      "outputs": []
    },
    {
      "cell_type": "code",
      "source": [
        "# One Hot Encoding target variable\n",
        "le = LabelBinarizer().fit(y_train)\n",
        "y_train_label = le.transform(y_train)\n",
        "y_test_label = le.transform(y_test)\n",
        "\n",
        "# Escala\n",
        "X_train = X_train / 255.\n",
        "X_test = X_test / 255."
      ],
      "metadata": {
        "id": "OvoMHzLMSEcH"
      },
      "execution_count": null,
      "outputs": []
    },
    {
      "cell_type": "markdown",
      "source": [
        "# Modelo desarrollado desde cero"
      ],
      "metadata": {
        "id": "B2CGRZylttNg"
      }
    },
    {
      "cell_type": "code",
      "source": [
        "# Preparación del modelo\n",
        "model = keras.models.Sequential()\n",
        "# Convolución 32 filtros\n",
        "model.add(keras.layers.Conv2D(32,kernel_size=(3,3),padding='same',input_shape=[64, 64, 3], use_bias=False))\n",
        "# Aplicación Batch Normalization\n",
        "model.add(keras.layers.BatchNormalization())\n",
        "# Aplicación Función de activación relu\n",
        "model.add(keras.layers.Activation(\"relu\"))\n",
        "# Aplicación MaxPooling\n",
        "model.add(keras.layers.MaxPooling2D(pool_size=(2,2)))\n",
        "\n",
        "# Convolución 16 fitros\n",
        "model.add(keras.layers.Conv2D(16,kernel_size=(3,3),padding='same',input_shape=[16, 16, 3]))\n",
        "# Aplicación Batch Normalization\n",
        "model.add(keras.layers.BatchNormalization())\n",
        "# Aplicación Función de activación relu\n",
        "model.add(keras.layers.Activation(\"relu\"))\n",
        "\n",
        "# Aplicación Avg Pooling\n",
        "model.add(keras.layers.AveragePooling2D(pool_size=(2,2)))\n",
        "# Convertir las entradas en un vector para poder pasarlo a una capa Dense\n",
        "model.add(keras.layers.Flatten())\n",
        "\n",
        "model.add(keras.layers.Dense(512, activation=\"relu\"))\n",
        "model.add(keras.layers.Dense(128, activation=\"relu\"))\n",
        "# Crear la capa de salida para clasificación con 6 posibles clases mutuamente excluyentes\n",
        "model.add(keras.layers.Dense(6, activation=\"softmax\"))\n",
        "\n",
        "# Entrenamiento y validación del modelo\n",
        "model.compile(optimizer='adam',loss='categorical_crossentropy',metrics=['accuracy'])\n",
        "model.fit(X_train, y_train_label,epochs=20,batch_size=32)\n",
        "model.evaluate(X_test, y_test_label, batch_size=32)\n"
      ],
      "metadata": {
        "colab": {
          "base_uri": "https://localhost:8080/"
        },
        "id": "x4xJyVGiKVkA",
        "outputId": "32080e27-37ef-48df-cd8e-e843c9e8aafe"
      },
      "execution_count": null,
      "outputs": [
        {
          "output_type": "stream",
          "name": "stdout",
          "text": [
            "Epoch 1/20\n",
            "34/34 [==============================] - 11s 295ms/step - loss: 2.1169 - accuracy: 0.3787\n",
            "Epoch 2/20\n",
            "34/34 [==============================] - 9s 265ms/step - loss: 0.5924 - accuracy: 0.7759\n",
            "Epoch 3/20\n",
            "34/34 [==============================] - 10s 287ms/step - loss: 0.2381 - accuracy: 0.9213\n",
            "Epoch 4/20\n",
            "34/34 [==============================] - 9s 270ms/step - loss: 0.1162 - accuracy: 0.9648\n",
            "Epoch 5/20\n",
            "34/34 [==============================] - 9s 263ms/step - loss: 0.0897 - accuracy: 0.9722\n",
            "Epoch 6/20\n",
            "34/34 [==============================] - 9s 263ms/step - loss: 0.0414 - accuracy: 0.9907\n",
            "Epoch 7/20\n",
            "34/34 [==============================] - 9s 264ms/step - loss: 0.0195 - accuracy: 0.9991\n",
            "Epoch 8/20\n",
            "34/34 [==============================] - 9s 265ms/step - loss: 0.0079 - accuracy: 1.0000\n",
            "Epoch 9/20\n",
            "34/34 [==============================] - 9s 264ms/step - loss: 0.0049 - accuracy: 1.0000\n",
            "Epoch 10/20\n",
            "34/34 [==============================] - 9s 263ms/step - loss: 0.0036 - accuracy: 1.0000\n",
            "Epoch 11/20\n",
            "34/34 [==============================] - 9s 262ms/step - loss: 0.0032 - accuracy: 1.0000\n",
            "Epoch 12/20\n",
            "34/34 [==============================] - 9s 266ms/step - loss: 0.0024 - accuracy: 1.0000\n",
            "Epoch 13/20\n",
            "34/34 [==============================] - 9s 270ms/step - loss: 0.0024 - accuracy: 1.0000\n",
            "Epoch 14/20\n",
            "34/34 [==============================] - 9s 270ms/step - loss: 0.0020 - accuracy: 1.0000\n",
            "Epoch 15/20\n",
            "34/34 [==============================] - 9s 268ms/step - loss: 0.0017 - accuracy: 1.0000\n",
            "Epoch 16/20\n",
            "34/34 [==============================] - 9s 266ms/step - loss: 0.0014 - accuracy: 1.0000\n",
            "Epoch 17/20\n",
            "34/34 [==============================] - 9s 266ms/step - loss: 0.0013 - accuracy: 1.0000\n",
            "Epoch 18/20\n",
            "34/34 [==============================] - 9s 264ms/step - loss: 0.0012 - accuracy: 1.0000\n",
            "Epoch 19/20\n",
            "34/34 [==============================] - 9s 267ms/step - loss: 9.8299e-04 - accuracy: 1.0000\n",
            "Epoch 20/20\n",
            "34/34 [==============================] - 9s 265ms/step - loss: 8.9805e-04 - accuracy: 1.0000\n",
            "4/4 [==============================] - 0s 56ms/step - loss: 0.0610 - accuracy: 0.9750\n"
          ]
        },
        {
          "output_type": "execute_result",
          "data": {
            "text/plain": [
              "[0.06095738708972931, 0.9750000238418579]"
            ]
          },
          "metadata": {},
          "execution_count": 49
        }
      ]
    },
    {
      "cell_type": "markdown",
      "source": [
        "# Modelo con uso de transfer learning\n",
        "\n",
        "Carga de una red ResNet."
      ],
      "metadata": {
        "id": "CJi21U8CUGRd"
      }
    },
    {
      "cell_type": "code",
      "source": [
        "model = keras.applications.resnet50.ResNet50(weights=\"imagenet\")"
      ],
      "metadata": {
        "colab": {
          "base_uri": "https://localhost:8080/"
        },
        "id": "Vzv7Rx0KUJ3J",
        "outputId": "da74a5d9-40dc-409f-8f43-2138c0e6ca9e"
      },
      "execution_count": null,
      "outputs": [
        {
          "output_type": "stream",
          "name": "stdout",
          "text": [
            "Downloading data from https://storage.googleapis.com/tensorflow/keras-applications/resnet/resnet50_weights_tf_dim_ordering_tf_kernels.h5\n",
            "102973440/102967424 [==============================] - 3s 0us/step\n",
            "102981632/102967424 [==============================] - 3s 0us/step\n"
          ]
        }
      ]
    },
    {
      "cell_type": "code",
      "source": [
        "#Importación de modelo base (Xception) sin las capas de clasificación\n",
        "base_model = keras.applications.xception.Xception(weights=\"imagenet\", include_top=False)\n",
        "# Aplicación de Global Average Pooling\n",
        "avg = keras.layers.GlobalAveragePooling2D()(base_model.output) \n",
        "# Creación de capa de salida para clasificación con 6 mutuamente excluyentes\n",
        "output = keras.layers.Dense(6, activation=\"softmax\")(avg) \n",
        "#Definición del modelo\n",
        "model = keras.Model(inputs=base_model.input, outputs=output)"
      ],
      "metadata": {
        "id": "Y_ULuMMLVOWd",
        "colab": {
          "base_uri": "https://localhost:8080/"
        },
        "outputId": "132bb0e7-419b-4ade-eaab-a7171f9cffc8"
      },
      "execution_count": null,
      "outputs": [
        {
          "output_type": "stream",
          "name": "stdout",
          "text": [
            "Downloading data from https://storage.googleapis.com/tensorflow/keras-applications/xception/xception_weights_tf_dim_ordering_tf_kernels_notop.h5\n",
            "83689472/83683744 [==============================] - 1s 0us/step\n",
            "83697664/83683744 [==============================] - 1s 0us/step\n"
          ]
        }
      ]
    },
    {
      "cell_type": "code",
      "source": [
        "# Congelación de los pesos del modelo base para sacar el máximo partido del modelo preentrenado\n",
        "base_model.trainable = False\n",
        "    \n",
        "# Comenzar con una constante de aprendizaje un poco más agresiva\n",
        "optimizer = keras.optimizers.SGD(learning_rate=0.2, momentum=0.9, decay=0.01)\n",
        "\n",
        "# Entrenamiento y evaluación del modelo\n",
        "model.compile(optimizer='adam',loss='categorical_crossentropy',metrics=['accuracy'])\n",
        "model.fit(X_train, y_train_label,epochs=20,batch_size=32)\n",
        "model.evaluate(X_test, y_test_label, batch_size=32)"
      ],
      "metadata": {
        "colab": {
          "base_uri": "https://localhost:8080/"
        },
        "id": "8E6bmXCsVVKj",
        "outputId": "18053122-2907-4b4d-b058-426cbbc7c533"
      },
      "execution_count": null,
      "outputs": [
        {
          "output_type": "stream",
          "name": "stdout",
          "text": [
            "Epoch 1/20\n",
            "34/34 [==============================] - 19s 479ms/step - loss: 1.4422 - accuracy: 0.4769\n",
            "Epoch 2/20\n",
            "34/34 [==============================] - 16s 475ms/step - loss: 1.1059 - accuracy: 0.6907\n",
            "Epoch 3/20\n",
            "34/34 [==============================] - 16s 475ms/step - loss: 0.9587 - accuracy: 0.7417\n",
            "Epoch 4/20\n",
            "34/34 [==============================] - 16s 476ms/step - loss: 0.8603 - accuracy: 0.7824\n",
            "Epoch 5/20\n",
            "34/34 [==============================] - 16s 475ms/step - loss: 0.7874 - accuracy: 0.8148\n",
            "Epoch 6/20\n",
            "34/34 [==============================] - 16s 478ms/step - loss: 0.7304 - accuracy: 0.8380\n",
            "Epoch 7/20\n",
            "34/34 [==============================] - 16s 477ms/step - loss: 0.6854 - accuracy: 0.8361\n",
            "Epoch 8/20\n",
            "34/34 [==============================] - 16s 477ms/step - loss: 0.6455 - accuracy: 0.8537\n",
            "Epoch 9/20\n",
            "34/34 [==============================] - 16s 478ms/step - loss: 0.6106 - accuracy: 0.8602\n",
            "Epoch 10/20\n",
            "34/34 [==============================] - 16s 479ms/step - loss: 0.5793 - accuracy: 0.8685\n",
            "Epoch 11/20\n",
            "34/34 [==============================] - 16s 478ms/step - loss: 0.5522 - accuracy: 0.8759\n",
            "Epoch 12/20\n",
            "34/34 [==============================] - 16s 479ms/step - loss: 0.5287 - accuracy: 0.8824\n",
            "Epoch 13/20\n",
            "34/34 [==============================] - 16s 477ms/step - loss: 0.5083 - accuracy: 0.8907\n",
            "Epoch 14/20\n",
            "34/34 [==============================] - 16s 479ms/step - loss: 0.4887 - accuracy: 0.8907\n",
            "Epoch 15/20\n",
            "34/34 [==============================] - 16s 481ms/step - loss: 0.4698 - accuracy: 0.9000\n",
            "Epoch 16/20\n",
            "34/34 [==============================] - 16s 481ms/step - loss: 0.4540 - accuracy: 0.9074\n",
            "Epoch 17/20\n",
            "34/34 [==============================] - 16s 477ms/step - loss: 0.4402 - accuracy: 0.9120\n",
            "Epoch 18/20\n",
            "34/34 [==============================] - 16s 478ms/step - loss: 0.4249 - accuracy: 0.9139\n",
            "Epoch 19/20\n",
            "34/34 [==============================] - 16s 477ms/step - loss: 0.4124 - accuracy: 0.9176\n",
            "Epoch 20/20\n",
            "34/34 [==============================] - 16s 476ms/step - loss: 0.3992 - accuracy: 0.9231\n",
            "4/4 [==============================] - 3s 437ms/step - loss: 0.4453 - accuracy: 0.8917\n"
          ]
        },
        {
          "output_type": "execute_result",
          "data": {
            "text/plain": [
              "[0.4453344941139221, 0.8916666507720947]"
            ]
          },
          "metadata": {},
          "execution_count": 52
        }
      ]
    },
    {
      "cell_type": "code",
      "source": [
        "# Congelación de los pesos del modelo base para sacar el máximo partido del modelo preentrenado\n",
        "base_model.trainable = False\n",
        "    \n",
        "# Ajuste de constante de aprendizaje\n",
        "optimizer = keras.optimizers.SGD(learning_rate=0.001, momentum=0.9, decay=0.0001)\n",
        "\n",
        "# Entrenamiento y evaluación del modelo\n",
        "model.compile(optimizer='adam',loss='categorical_crossentropy',metrics=['accuracy'])\n",
        "model.fit(X_train, y_train_label,epochs=20,batch_size=32)\n",
        "model.evaluate(X_test, y_test_label, batch_size=32)"
      ],
      "metadata": {
        "colab": {
          "base_uri": "https://localhost:8080/"
        },
        "id": "RmCNojVYWMlW",
        "outputId": "496c7ed9-33b2-44a1-b765-f0b18a3dac51"
      },
      "execution_count": null,
      "outputs": [
        {
          "output_type": "stream",
          "name": "stdout",
          "text": [
            "Epoch 1/20\n",
            "34/34 [==============================] - 19s 485ms/step - loss: 0.3904 - accuracy: 0.9278\n",
            "Epoch 2/20\n",
            "34/34 [==============================] - 16s 481ms/step - loss: 0.3670 - accuracy: 0.9315\n",
            "Epoch 3/20\n",
            "34/34 [==============================] - 16s 479ms/step - loss: 0.3514 - accuracy: 0.9370\n",
            "Epoch 4/20\n",
            "34/34 [==============================] - 16s 479ms/step - loss: 0.3348 - accuracy: 0.9380\n",
            "Epoch 5/20\n",
            "34/34 [==============================] - 16s 477ms/step - loss: 0.3228 - accuracy: 0.9444\n",
            "Epoch 6/20\n",
            "34/34 [==============================] - 16s 478ms/step - loss: 0.3092 - accuracy: 0.9481\n",
            "Epoch 7/20\n",
            "34/34 [==============================] - 16s 481ms/step - loss: 0.2984 - accuracy: 0.9528\n",
            "Epoch 8/20\n",
            "34/34 [==============================] - 16s 484ms/step - loss: 0.2886 - accuracy: 0.9546\n",
            "Epoch 9/20\n",
            "34/34 [==============================] - 16s 485ms/step - loss: 0.2804 - accuracy: 0.9574\n",
            "Epoch 10/20\n",
            "34/34 [==============================] - 16s 479ms/step - loss: 0.2711 - accuracy: 0.9583\n",
            "Epoch 11/20\n",
            "34/34 [==============================] - 16s 480ms/step - loss: 0.2611 - accuracy: 0.9620\n",
            "Epoch 12/20\n",
            "34/34 [==============================] - 16s 479ms/step - loss: 0.2534 - accuracy: 0.9620\n",
            "Epoch 13/20\n",
            "34/34 [==============================] - 16s 478ms/step - loss: 0.2460 - accuracy: 0.9639\n",
            "Epoch 14/20\n",
            "34/34 [==============================] - 16s 481ms/step - loss: 0.2397 - accuracy: 0.9657\n",
            "Epoch 15/20\n",
            "34/34 [==============================] - 16s 481ms/step - loss: 0.2325 - accuracy: 0.9676\n",
            "Epoch 16/20\n",
            "34/34 [==============================] - 16s 482ms/step - loss: 0.2264 - accuracy: 0.9667\n",
            "Epoch 17/20\n",
            "34/34 [==============================] - 16s 478ms/step - loss: 0.2210 - accuracy: 0.9704\n",
            "Epoch 18/20\n",
            "34/34 [==============================] - 16s 482ms/step - loss: 0.2152 - accuracy: 0.9704\n",
            "Epoch 19/20\n",
            "34/34 [==============================] - 16s 479ms/step - loss: 0.2100 - accuracy: 0.9731\n",
            "Epoch 20/20\n",
            "34/34 [==============================] - 16s 482ms/step - loss: 0.2046 - accuracy: 0.9722\n",
            "4/4 [==============================] - 3s 446ms/step - loss: 0.3012 - accuracy: 0.9167\n"
          ]
        },
        {
          "output_type": "execute_result",
          "data": {
            "text/plain": [
              "[0.30118435621261597, 0.9166666865348816]"
            ]
          },
          "metadata": {},
          "execution_count": 53
        }
      ]
    },
    {
      "cell_type": "markdown",
      "source": [
        "El modelo óptimo es el desarrollado desde cero ya que la precisión es mayor."
      ],
      "metadata": {
        "id": "ZPBreWKcvG8h"
      }
    }
  ]
}